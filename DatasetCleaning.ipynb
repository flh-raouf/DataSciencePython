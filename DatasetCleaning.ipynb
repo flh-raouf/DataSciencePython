{
 "cells": [
  {
   "cell_type": "markdown",
   "metadata": {},
   "source": [
    "instalations"
   ]
  },
  {
   "cell_type": "code",
   "execution_count": null,
   "metadata": {},
   "outputs": [],
   "source": [
    "%pip install pandas openpyxl"
   ]
  },
  {
   "cell_type": "code",
   "execution_count": null,
   "metadata": {},
   "outputs": [],
   "source": [
    "import pandas as pd"
   ]
  },
  {
   "cell_type": "markdown",
   "metadata": {},
   "source": [
    "read file"
   ]
  },
  {
   "cell_type": "code",
   "execution_count": null,
   "metadata": {},
   "outputs": [],
   "source": [
    "df = pd.read_excel(r\".\\DataSet\\Customer Call List.xlsx\")\n",
    "df "
   ]
  },
  {
   "cell_type": "markdown",
   "metadata": {},
   "source": [
    "remove duplicates and not letters from the dataframe"
   ]
  },
  {
   "cell_type": "code",
   "execution_count": null,
   "metadata": {},
   "outputs": [],
   "source": [
    "df[\"Last_Name\"] = df[\"Last_Name\"].str.strip(\"123./_\")\n",
    "df"
   ]
  },
  {
   "cell_type": "code",
   "execution_count": null,
   "metadata": {},
   "outputs": [],
   "source": [
    "df[\"Phone_Number\"] = df[\"Phone_Number\"].str.replace('[^a-zA-Z0-9]', '', regex=True)\n",
    "df[\"Phone_Number\"] = df[\"Phone_Number\"].apply(lambda x: str(x))\n",
    "df[\"Phone_Number\"] = df[\"Phone_Number\"].apply(lambda x: x[0:3] + \"-\" + x[3:6] + \"-\" + x[6:10])\n",
    "df[\"Phone_Number\"] = df[\"Phone_Number\"].str.replace('nan--', '', regex=True)\n",
    "df[\"Phone_Number\"] = df[\"Phone_Number\"].str.replace('Na--', '', regex=True)\n",
    "df"
   ]
  },
  {
   "cell_type": "code",
   "execution_count": null,
   "metadata": {},
   "outputs": [],
   "source": [
    "df[[ \"Street_Address\", \"State\", \"Zip_Code\"]] = df[\"Address\"].str.split(\",\", expand=True)\n",
    "df"
   ]
  },
  {
   "cell_type": "code",
   "execution_count": null,
   "metadata": {},
   "outputs": [],
   "source": [
    "df['Paying Customer'] = df['Paying Customer'].str.replace('Yes', 'Y')\n",
    "df['Paying Customer'] = df['Paying Customer'].str.replace('No', 'N')\n",
    "df['Paying Customer'] = df['Paying Customer'].str.replace('N/a', '')\n",
    "\n",
    "df"
   ]
  },
  {
   "cell_type": "code",
   "execution_count": null,
   "metadata": {},
   "outputs": [],
   "source": [
    "df['Do_Not_Contact'] = df['Do_Not_Contact'].str.replace('Yes', 'Y')\n",
    "df['Do_Not_Contact'] = df['Do_Not_Contact'].str.replace('No', 'N')\n",
    "\n",
    "df"
   ]
  },
  {
   "cell_type": "markdown",
   "metadata": {},
   "source": [
    "fill novalue with blank"
   ]
  },
  {
   "cell_type": "code",
   "execution_count": null,
   "metadata": {},
   "outputs": [],
   "source": [
    "df = df.fillna('')\n",
    "df"
   ]
  },
  {
   "cell_type": "markdown",
   "metadata": {},
   "source": [
    "reutrn only people that we can contact"
   ]
  },
  {
   "cell_type": "code",
   "execution_count": null,
   "metadata": {},
   "outputs": [],
   "source": [
    "for x in df.index :\n",
    "    if df.loc[x , \"Do_Not_Contact\"] == 'Y' :\n",
    "        df.drop (x , inplace = True)\n",
    "\n",
    "#df = df.drop(columns = \"Address\")\n",
    "#df = df.drop(columns = \"Not_Useful_Column\")\n",
    "\n",
    "for x in df.index :\n",
    "    if df.loc[x , \"Phone_Number\"] == '' :\n",
    "        df.drop (x , inplace = True)\n",
    "df\n"
   ]
  },
  {
   "cell_type": "code",
   "execution_count": null,
   "metadata": {},
   "outputs": [],
   "source": [
    "df.reset_index(drop=True, inplace=True)"
   ]
  },
  {
   "cell_type": "code",
   "execution_count": null,
   "metadata": {},
   "outputs": [],
   "source": [
    "df"
   ]
  },
  {
   "cell_type": "code",
   "execution_count": null,
   "metadata": {},
   "outputs": [],
   "source": [
    "df.isnull()"
   ]
  }
 ],
 "metadata": {
  "kernelspec": {
   "display_name": ".venv",
   "language": "python",
   "name": "python3"
  },
  "language_info": {
   "codemirror_mode": {
    "name": "ipython",
    "version": 3
   },
   "file_extension": ".py",
   "mimetype": "text/x-python",
   "name": "python",
   "nbconvert_exporter": "python",
   "pygments_lexer": "ipython3",
   "version": "3.12.2"
  }
 },
 "nbformat": 4,
 "nbformat_minor": 2
}
